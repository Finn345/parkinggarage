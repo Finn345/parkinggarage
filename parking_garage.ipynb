{
 "cells": [
  {
   "cell_type": "code",
   "execution_count": 18,
   "id": "10bf2343",
   "metadata": {},
   "outputs": [
    {
     "name": "stdout",
     "output_type": "stream",
     "text": [
      "\n",
      "Welcome to the Garage!\n",
      "1. Take a ticket\n",
      "2. Pay for your parking spot\n",
      "3. Leave the garage\n",
      "4. Exit\n",
      "Please enter your choice! 1, 2, 3, 4:1\n"
     ]
    },
    {
     "ename": "ValueError",
     "evalue": "too many values to unpack (expected 1)",
     "output_type": "error",
     "traceback": [
      "\u001b[1;31m---------------------------------------------------------------------------\u001b[0m",
      "\u001b[1;31mValueError\u001b[0m                                Traceback (most recent call last)",
      "Cell \u001b[1;32mIn[18], line 61\u001b[0m\n\u001b[0;32m     58\u001b[0m option \u001b[38;5;241m=\u001b[39m \u001b[38;5;28minput\u001b[39m(\u001b[38;5;124m'\u001b[39m\u001b[38;5;124mPlease enter your choice! 1, 2, 3, 4:\u001b[39m\u001b[38;5;124m'\u001b[39m)\n\u001b[0;32m     60\u001b[0m \u001b[38;5;28;01mif\u001b[39;00m option \u001b[38;5;241m==\u001b[39m \u001b[38;5;124m'\u001b[39m\u001b[38;5;124m1\u001b[39m\u001b[38;5;124m'\u001b[39m:\n\u001b[1;32m---> 61\u001b[0m     garage\u001b[38;5;241m.\u001b[39mTaketickets()\n\u001b[0;32m     62\u001b[0m \u001b[38;5;28;01melif\u001b[39;00m option \u001b[38;5;241m==\u001b[39m \u001b[38;5;124m'\u001b[39m\u001b[38;5;124m2\u001b[39m\u001b[38;5;124m'\u001b[39m:\n\u001b[0;32m     63\u001b[0m     garage\u001b[38;5;241m.\u001b[39mpayingTicket()\n",
      "Cell \u001b[1;32mIn[18], line 12\u001b[0m, in \u001b[0;36mparkingGarage.Taketickets\u001b[1;34m(self)\u001b[0m\n\u001b[0;32m     10\u001b[0m     ticket_spot \u001b[38;5;241m=\u001b[39m \u001b[38;5;28mself\u001b[39m\u001b[38;5;241m.\u001b[39mtickets\u001b[38;5;241m.\u001b[39mpop(\u001b[38;5;241m0\u001b[39m)\n\u001b[0;32m     11\u001b[0m     spot_num \u001b[38;5;241m=\u001b[39m \u001b[38;5;28mself\u001b[39m\u001b[38;5;241m.\u001b[39mparking_spots\u001b[38;5;241m.\u001b[39mpop(\u001b[38;5;241m0\u001b[39m)\n\u001b[1;32m---> 12\u001b[0m     \u001b[38;5;28mself\u001b[39m\u001b[38;5;241m.\u001b[39mCurrentticket \u001b[38;5;241m=\u001b[39m [ticket_num] \u001b[38;5;241m=\u001b[39m {\n\u001b[0;32m     13\u001b[0m         \u001b[38;5;124m'\u001b[39m\u001b[38;5;124mpaid\u001b[39m\u001b[38;5;124m'\u001b[39m: \u001b[38;5;28;01mFalse\u001b[39;00m,\n\u001b[0;32m     14\u001b[0m         \u001b[38;5;124m'\u001b[39m\u001b[38;5;124mspot_number\u001b[39m\u001b[38;5;124m'\u001b[39m: spot_num\n\u001b[0;32m     15\u001b[0m     }\n\u001b[0;32m     17\u001b[0m     \u001b[38;5;28mprint\u001b[39m(\u001b[38;5;124mf\u001b[39m\u001b[38;5;124m'\u001b[39m\u001b[38;5;124mTicket \u001b[39m\u001b[38;5;132;01m{\u001b[39;00mticket_num\u001b[38;5;132;01m}\u001b[39;00m\u001b[38;5;124m has been printed to you. Please park inside. Remember to pay on the way out; thank you!\u001b[39m\u001b[38;5;124m'\u001b[39m)\n\u001b[0;32m     19\u001b[0m \u001b[38;5;28;01melse\u001b[39;00m:\n",
      "\u001b[1;31mValueError\u001b[0m: too many values to unpack (expected 1)"
     ]
    }
   ],
   "source": [
    "class parkingGarage:\n",
    "    \n",
    "    def __init__(self, parking_spots, tickets):\n",
    "        self.tickets = list(range(1, tickets + 1))\n",
    "        self.parking_spots = list(range(1, parking_spots + 1))\n",
    "        self.Currentticket = {}\n",
    "        \n",
    "    def Taketickets(self):\n",
    "        if self.tickets:\n",
    "            ticket_num = self.tickets.pop(0)\n",
    "            spot_num = self.parking_spots.pop(0)\n",
    "            self.Currentticket = [ticket_num] = {\n",
    "                'paid': False,\n",
    "                'spot_number': spot_num\n",
    "            }\n",
    "            \n",
    "            print(f'Ticket {ticket_num} has been printed to you. Please park inside. Remember to pay on the way out; thank you!')\n",
    "            \n",
    "        else:\n",
    "            print(\"We apologize, but our garage is full at the moment.\")\n",
    "    \n",
    "    def payingTicket(self):\n",
    "        ticket_num = int(input(\"Enter the number on your ticket please: \"))\n",
    "        if ticket_number in self.Currentticket and not self.Currentticket[ticket_num][\"paid\"]:\n",
    "            money = input(\"Please enter your payment here: \")\n",
    "            if money:\n",
    "                self.Currentticket[ticket_num]['paid'] = True\n",
    "                print(\"Payment has been recieved. Thank you! :) \")\n",
    "            else:\n",
    "                print(\"Payment not entered, please try again\")\n",
    "        else:\n",
    "            print(\"Ticket number was not correct, or was already paid. Please try again.\")\n",
    "    \n",
    "    def leavingGarage(self):\n",
    "        ticket_num = int(input(\"Enter your ticket number here: \"))\n",
    "        if ticket_num in self.CurrentTicket:\n",
    "            if self.Currentticket[ticket_num]['paid'] == True:\n",
    "                print(\"Thank you for choosing our garage, have a great day!\")\n",
    "                self.parking_spots.append(self.Currentticket[ticket_num]['spot_number'])\n",
    "                self.tickets.append(ticket_num)\n",
    "                del self.Currentticket[ticket_num]\n",
    "            else:\n",
    "                print(\"Payment is required to leave, or your vehicle will be towed\")\n",
    "        else:\n",
    "            print(\"That ticket number was invalid. Please try again.\")\n",
    "            \n",
    "\n",
    "\n",
    "garage = parkingGarage(parking_spots = 50, tickets = 50)\n",
    "\n",
    "while True:\n",
    "    print('\\nWelcome to the Garage!')\n",
    "    print('1. Take a ticket')\n",
    "    print('2. Pay for your parking spot')\n",
    "    print('3. Leave the garage')\n",
    "    print('4. Exit')\n",
    "    \n",
    "    option = input('Please enter your choice! 1, 2, 3, 4:')\n",
    "    \n",
    "    if option == '1':\n",
    "        garage.Taketickets()\n",
    "    elif option == '2':\n",
    "        garage.payingTicket()\n",
    "    elif option == '3':\n",
    "        garage.leavingGarage()\n",
    "    elif option == '4':\n",
    "        break\n",
    "        print(\"Have a great day!\")\n",
    "    else:\n",
    "        print('Invalid, please choose a different option.')"
   ]
  },
  {
   "cell_type": "code",
   "execution_count": null,
   "id": "e2fa1e14",
   "metadata": {},
   "outputs": [],
   "source": []
  }
 ],
 "metadata": {
  "kernelspec": {
   "display_name": "Python 3 (ipykernel)",
   "language": "python",
   "name": "python3"
  },
  "language_info": {
   "codemirror_mode": {
    "name": "ipython",
    "version": 3
   },
   "file_extension": ".py",
   "mimetype": "text/x-python",
   "name": "python",
   "nbconvert_exporter": "python",
   "pygments_lexer": "ipython3",
   "version": "3.11.4"
  }
 },
 "nbformat": 4,
 "nbformat_minor": 5
}
